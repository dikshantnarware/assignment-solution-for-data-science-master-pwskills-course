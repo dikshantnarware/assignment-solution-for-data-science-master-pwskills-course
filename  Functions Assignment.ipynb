{
 "cells": [
  {
   "cell_type": "markdown",
   "id": "3d44e5fc",
   "metadata": {},
   "source": [
    "# Q1. The keyword used to create a function in Python is def. Here's a function to return a list of odd numbers in the range of 1 to "
   ]
  },
  {
   "cell_type": "code",
   "execution_count": 9,
   "id": "baac438f",
   "metadata": {},
   "outputs": [
    {
     "name": "stdout",
     "output_type": "stream",
     "text": [
      "[1, 3, 5, 7, 9, 11, 13, 15, 17, 19, 21, 23, 25]\n"
     ]
    }
   ],
   "source": [
    "def odd_numbers():\n",
    "    return [num for num in range(1, 26) if num % 2 != 0]\n",
    "\n",
    "# Call the function and print the result\n",
    "print(odd_numbers())"
   ]
  },
  {
   "cell_type": "markdown",
   "id": "78e4282c",
   "metadata": {},
   "source": [
    "# Q2. *args and **kwargs are used in functions to accept a variable number of arguments and keyword arguments respectively. Here are examples of functions demonstrating their use:\n"
   ]
  },
  {
   "cell_type": "code",
   "execution_count": 8,
   "id": "9f5b561f",
   "metadata": {},
   "outputs": [
    {
     "name": "stdout",
     "output_type": "stream",
     "text": [
      "Sum: 15\n",
      "name: Alice\n",
      "age: 30\n",
      "city: New York\n"
     ]
    }
   ],
   "source": [
    "\n",
    "# Function with *args\n",
    "def sum_all(*args):\n",
    "    return sum(args)\n",
    "\n",
    "# Function with **kwargs\n",
    "def print_kwargs(**kwargs):\n",
    "    for key, value in kwargs.items():\n",
    "        print(f\"{key}: {value}\")\n",
    "\n",
    "# Calling the functions\n",
    "print(\"Sum:\", sum_all(1, 2, 3, 4, 5))  # Output: Sum: 15\n",
    "print_kwargs(name=\"Alice\", age=30, city=\"New York\")"
   ]
  },
  {
   "cell_type": "markdown",
   "id": "918e11c4",
   "metadata": {},
   "source": [
    "# Q3. An iterator in Python is an object that implements the iterator protocol, which consists of the __iter__() method for initialization and the __next__() method for iteration. Here's how to use these methods to print the first five elements of the given list:\n"
   ]
  },
  {
   "cell_type": "code",
   "execution_count": 6,
   "id": "f76ad902",
   "metadata": {},
   "outputs": [
    {
     "name": "stdout",
     "output_type": "stream",
     "text": [
      "2\n",
      "4\n",
      "6\n",
      "8\n",
      "10\n"
     ]
    }
   ],
   "source": [
    "# Given list\n",
    "my_list = [2, 4, 6, 8, 10, 12, 14, 16, 18, 20]\n",
    "\n",
    "# Initialize the iterator object\n",
    "iterator = iter(my_list)\n",
    "\n",
    "# Iterate and print the first five elements\n",
    "for _ in range(5):\n",
    "    print(next(iterator))\n"
   ]
  },
  {
   "cell_type": "markdown",
   "id": "83c0e2fe",
   "metadata": {},
   "source": [
    "# Q4. A generator function in Python is a function that contains one or more yield statements. It returns an iterator called a generator. The yield keyword is used to yield a value from the generator without terminating the function. Here's an example of a generator function:\n",
    "\n"
   ]
  },
  {
   "cell_type": "code",
   "execution_count": 4,
   "id": "8f0fdfca",
   "metadata": {},
   "outputs": [
    {
     "name": "stdout",
     "output_type": "stream",
     "text": [
      "0\n",
      "1\n",
      "4\n",
      "9\n",
      "16\n"
     ]
    }
   ],
   "source": [
    "def square_numbers(n):\n",
    "    for i in range(n):\n",
    "        yield i ** 2\n",
    "\n",
    "# Using the generator function\n",
    "generator = square_numbers(5)\n",
    "\n",
    "# Iterating over the generator and printing the values\n",
    "for num in generator:\n",
    "    print(num)\n"
   ]
  },
  {
   "cell_type": "markdown",
   "id": "a3deb934",
   "metadata": {},
   "source": [
    "# Q5. Here's a generator function for prime numbers less than 1000 and using the next() method to print the first 20 prime numbers:\n"
   ]
  },
  {
   "cell_type": "code",
   "execution_count": 1,
   "id": "9d1b2ce8",
   "metadata": {},
   "outputs": [
    {
     "name": "stdout",
     "output_type": "stream",
     "text": [
      "2\n",
      "3\n",
      "5\n",
      "7\n",
      "11\n",
      "13\n",
      "17\n",
      "19\n",
      "23\n",
      "29\n",
      "31\n",
      "37\n",
      "41\n",
      "43\n",
      "47\n",
      "53\n",
      "59\n",
      "61\n",
      "67\n",
      "71\n"
     ]
    }
   ],
   "source": [
    "def generate_primes():\n",
    "    num = 2\n",
    "    prime_count = 0\n",
    "    while prime_count < 20:\n",
    "        if all(num % i != 0 for i in range(2, int(num ** 0.5) + 1)):\n",
    "            yield num\n",
    "            prime_count += 1\n",
    "        num += 1\n",
    "\n",
    "# Using the generator function to print the first 20 prime numbers\n",
    "prime_generator = generate_primes()\n",
    "for _ in range(20):\n",
    "    print(next(prime_generator))"
   ]
  },
  {
   "cell_type": "code",
   "execution_count": null,
   "id": "463e1729",
   "metadata": {},
   "outputs": [],
   "source": []
  }
 ],
 "metadata": {
  "kernelspec": {
   "display_name": "Python 3 (ipykernel)",
   "language": "python",
   "name": "python3"
  },
  "language_info": {
   "codemirror_mode": {
    "name": "ipython",
    "version": 3
   },
   "file_extension": ".py",
   "mimetype": "text/x-python",
   "name": "python",
   "nbconvert_exporter": "python",
   "pygments_lexer": "ipython3",
   "version": "3.9.13"
  }
 },
 "nbformat": 4,
 "nbformat_minor": 5
}
