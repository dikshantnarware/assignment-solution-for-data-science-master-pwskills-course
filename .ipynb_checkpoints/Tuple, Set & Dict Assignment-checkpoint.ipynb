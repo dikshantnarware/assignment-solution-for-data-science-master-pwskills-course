{
 "cells": [
  {
   "cell_type": "markdown",
   "id": "f56280d1",
   "metadata": {},
   "source": [
    "# Q1. What are the characteristics of the tuples? Is tuple immutable?\n",
    "ChatGPT\n",
    "Tuples are ordered collections of elements, similar to lists, but with some key differences:\n",
    "\n",
    "Ordered: Like lists, tuples maintain the order of elements, meaning the elements are arranged in a specific sequence.\n",
    "\n",
    "Immutable: Yes, tuples are immutable, meaning once created, their elements cannot be changed, added, or removed. However, if the elements themselves are mutable (like lists), those elements can be modified.\n",
    "\n",
    "Heterogeneous: Tuples can contain elements of different data types. For example, a tuple can contain integers, strings, floats, and other tuples.\n",
    "\n",
    "Indexed: Elements in a tuple can be accessed using indices, just like lists. The first element is at index 0, the second at index 1, and so on.\n",
    "\n",
    "Hashable: Tuples are hashable if all their elements are hashable. This makes tuples suitable for use as keys in dictionaries and elements in sets.\n",
    "\n",
    "Because of their immutability, tuples are useful for representing fixed collections of items that shouldn't change during the program's execution, such as coordinates, database records, or function arguments."
   ]
  },
  {
   "cell_type": "markdown",
   "id": "d122b0cf",
   "metadata": {},
   "source": [
    "# Q2. What are the two tuple methods in python? Give an example of each method. Give a reason why\n",
    "tuples have only two in-built methods as compared to Lists.\n",
    "#In Python, tuples have two built-in methods:\n",
    "\n",
    "count(): This method returns the number of occurrences of a specified value in the tuple.\n",
    "\n",
    "index(): This method returns the index of the first occurrence of a specified value in the tuple.\n",
    "Tuples have fewer built-in methods compared to lists because tuples are immutable, meaning they cannot be modified after creation. Lists, on the other hand, are mutable and have methods like append(), remove(), and insert() that allow for modifying their contents. Since tuples cannot be changed, they don't need methods for modification operations, resulting in a smaller set of built-in methods."
   ]
  },
  {
   "cell_type": "code",
   "execution_count": 3,
   "id": "f1430840",
   "metadata": {},
   "outputs": [
    {
     "name": "stdout",
     "output_type": "stream",
     "text": [
      "Count of 2s in the tuple: 3\n",
      "Index of 4 in the tuple: 4\n"
     ]
    }
   ],
   "source": [
    "my_tuple = (1, 2, 3, 2, 4, 2)\n",
    "count_of_twos = my_tuple.count(2)\n",
    "print(\"Count of 2s in the tuple:\", count_of_twos)  # Output: Count of 2s in the tuple: 3\n",
    "# Example of index() method\n",
    "index_of_four = my_tuple.index(4)\n",
    "print(\"Index of 4 in the tuple:\", index_of_four)  # Output: Index of 4 in the tuple: 4"
   ]
  },
  {
   "cell_type": "markdown",
   "id": "fac7b7eb",
   "metadata": {},
   "source": [
    "# Q3. Which collection datatypes in python do not allow duplicate items? Write a code using a set to remove\n",
    "duplicates from the given list.\n",
    "ChatGPT\n",
    "In Python, sets do not allow duplicate items. Sets are unordered collections of unique elements. If you have a list with duplicate items and want to remove them, you can convert the list to a set, which will automatically eliminate the duplicates due to the uniqueness property of sets. Here's a code example:"
   ]
  },
  {
   "cell_type": "code",
   "execution_count": 7,
   "id": "cc3e35ac",
   "metadata": {},
   "outputs": [
    {
     "name": "stdout",
     "output_type": "stream",
     "text": [
      "List with duplicates removed: [1, 2, 3, 4]\n"
     ]
    }
   ],
   "source": [
    "my_list = [1, 1, 1, 2, 1, 3, 1, 4, 2, 1, 2, 2, 2, 3, 2, 4, 3, 1, 3, 2, 3, 3, 3, 4, 4, 1, 4, 2, 4, 3, 4, 4]\n",
    "\n",
    "# Convert the list to a set to remove duplicates\n",
    "unique_items_set = set(my_list)\n",
    "\n",
    "# Convert the set back to a list if needed\n",
    "unique_items_list = list(unique_items_set)\n",
    "\n",
    "print(\"List with duplicates removed:\", unique_items_list)"
   ]
  },
  {
   "cell_type": "markdown",
   "id": "d4c74858",
   "metadata": {},
   "source": [
    "# Q4. Explain the difference between the union() and update() methods for a set. Give an example of each method.\n",
    "\n",
    "Both union() and update() are methods used with sets in Python, but they have different purposes:\n",
    "\n",
    "union() Method: This method returns a new set containing all the unique elements from both sets. It doesn't modify the original sets.\n",
    "\n",
    "update() Method: This method adds all elements from another set (or any iterable) to the current set. It modifies the original set.\n",
    "\n",
    "Here's an example demonstrating each method:"
   ]
  },
  {
   "cell_type": "code",
   "execution_count": 8,
   "id": "aacec088",
   "metadata": {},
   "outputs": [
    {
     "name": "stdout",
     "output_type": "stream",
     "text": [
      "Union of set1 and set2: {1, 2, 3, 4, 5}\n",
      "Original set1: {1, 2, 3}\n",
      "Original set2: {3, 4, 5}\n"
     ]
    }
   ],
   "source": [
    "# Example of union() method\n",
    "set1 = {1, 2, 3}\n",
    "set2 = {3, 4, 5}\n",
    "\n",
    "# Using union() method to combine sets\n",
    "union_set = set1.union(set2)\n",
    "\n",
    "print(\"Union of set1 and set2:\", union_set)  # Output: Union of set1 and set2: {1, 2, 3, 4, 5}\n",
    "print(\"Original set1:\", set1)  # Output: Original set1: {1, 2, 3} (unchanged)\n",
    "print(\"Original set2:\", set2)  # Output: Original set2: {3, 4, 5} (unchanged)\n"
   ]
  },
  {
   "cell_type": "markdown",
   "id": "816b75de",
   "metadata": {},
   "source": [
    "In the first example using union(), the original sets set1 and set2 remain unchanged, and a new set union_set containing all unique elements from both sets is created.\n",
    "\n",
    "In the second example using update(), the original set1 is modified to include all elements from set2. The set2 itself remains unchanged."
   ]
  },
  {
   "cell_type": "markdown",
   "id": "e1797aa9",
   "metadata": {},
   "source": [
    "# Q5. What is a dictionary? Give an example. Also, state whether a dictionary is ordered or unordered.\n",
    "\n",
    "A dictionary in Python is a collection of key-value pairs. Each key is unique within the dictionary and is used to access its corresponding value. Dictionaries are enclosed in curly braces {}, and each key-value pair is separated by a colon :.\n",
    "\n",
    "Here's an example of a dictionary:\n"
   ]
  },
  {
   "cell_type": "code",
   "execution_count": 9,
   "id": "d3247ab8",
   "metadata": {},
   "outputs": [
    {
     "name": "stdout",
     "output_type": "stream",
     "text": [
      "Number of apples: 3\n",
      "Number of bananas: 5\n",
      "Number of oranges: 2\n"
     ]
    }
   ],
   "source": [
    "# Dictionary example\n",
    "my_dict = {\"apple\": 3, \"banana\": 5, \"orange\": 2}\n",
    "\n",
    "# Accessing values using keys\n",
    "print(\"Number of apples:\", my_dict[\"apple\"])   # Output: Number of apples: 3\n",
    "print(\"Number of bananas:\", my_dict[\"banana\"])  # Output: Number of bananas: 5\n",
    "print(\"Number of oranges:\", my_dict[\"orange\"])  # Output: Number of oranges: 2\n"
   ]
  },
  {
   "cell_type": "markdown",
   "id": "e44a16a8",
   "metadata": {},
   "source": [
    "Dictionaries in Python are unordered, meaning the order in which the key-value pairs are stored is not guaranteed. This means that the order in which you insert elements into a dictionary is not necessarily the same order in which they are stored. However, starting from Python 3.7, dictionaries maintain the insertion order of their keys, which means that the order of insertion is preserved when iterating over the keys or using methods like keys(), values(), or items(). In Python 3.6 and earlier versions, dictionaries are unordered. User"
   ]
  },
  {
   "cell_type": "markdown",
   "id": "ad322bee",
   "metadata": {},
   "source": [
    "# Q6. Can we create a nested dictionary? If so, please give an example by creating a simple one-level\n",
    "nested dictionary.\n",
    "Yes, we can create a nested dictionary in Python. A nested dictionary is a dictionary that contains another dictionary (or dictionaries) as its values. Here's an example of a simple one-level nested dictionary:\n",
    "\n",
    "\n",
    "\n",
    "\n"
   ]
  },
  {
   "cell_type": "code",
   "execution_count": 11,
   "id": "8a66f006",
   "metadata": {},
   "outputs": [
    {
     "name": "stdout",
     "output_type": "stream",
     "text": [
      "Name of person1: Alice\n",
      "Age of person2: 25\n",
      "City of person3: Chicago\n"
     ]
    }
   ],
   "source": [
    "# Creating a nested dictionary\n",
    "nested_dict = {\n",
    "    \"person1\": {\"name\": \"Alice\", \"age\": 30, \"city\": \"New York\"},\n",
    "    \"person2\": {\"name\": \"Bob\", \"age\": 25, \"city\": \"Los Angeles\"},\n",
    "    \"person3\": {\"name\": \"Charlie\", \"age\": 35, \"city\": \"Chicago\"}\n",
    "}\n",
    "\n",
    "# Accessing values in the nested dictionary\n",
    "print(\"Name of person1:\", nested_dict[\"person1\"][\"name\"])  # Output: Name of person1: Alice\n",
    "print(\"Age of person2:\", nested_dict[\"person2\"][\"age\"])     # Output: Age of person2: 25\n",
    "print(\"City of person3:\", nested_dict[\"person3\"][\"city\"])   # Output: City of person3: Chicago\n"
   ]
  },
  {
   "cell_type": "markdown",
   "id": "f6b82fff",
   "metadata": {},
   "source": [
    "In this example, nested_dict is a dictionary where each key corresponds to a person (e.g., \"person1\", \"person2\"), and each value is another dictionary containing information about that person (e.g., name, age, city). This demonstrates a one-level nested dictionary structure.\n"
   ]
  },
  {
   "cell_type": "markdown",
   "id": "73095f34",
   "metadata": {},
   "source": [
    "# Q7. Using setdefault() method, create key named topics in the given dictionary and also add the value ofthe key as this list\n",
    "['Python', 'Machine Learning’, 'Deep Learning']\n",
    "\n",
    "dict1 = {'language' : 'Python', 'course': 'Data Science Masters'}"
   ]
  },
  {
   "cell_type": "code",
   "execution_count": 12,
   "id": "80993cad",
   "metadata": {},
   "outputs": [
    {
     "name": "stdout",
     "output_type": "stream",
     "text": [
      "{'language': 'Python', 'course': 'Data Science Masters', 'topics': ['Python', 'Machine Learning', 'Deep Learning']}\n"
     ]
    }
   ],
   "source": [
    "dict1 = {'language': 'Python', 'course': 'Data Science Masters'}\n",
    "\n",
    "# Using setdefault() to create the key 'topics' if it doesn't exist\n",
    "# and set its value to the provided list\n",
    "dict1.setdefault('topics', ['Python', 'Machine Learning', 'Deep Learning'])\n",
    "\n",
    "print(dict1)\n"
   ]
  },
  {
   "cell_type": "markdown",
   "id": "da43c367",
   "metadata": {},
   "source": [
    "# Q8. What are the three view objects in dictionaries? Use the three in-built methods in python to display\n",
    "these three view objects for the given dictionary.\n",
    "dict1 = {'Sport': 'Cricket' , 'Teams': ['India', 'Australia', 'England', 'South Africa', 'Sri Lanka', 'New Zealand']}\n",
    "\n"
   ]
  },
  {
   "cell_type": "code",
   "execution_count": 13,
   "id": "87af1e77",
   "metadata": {},
   "outputs": [
    {
     "name": "stdout",
     "output_type": "stream",
     "text": [
      "Keys view: dict_keys(['Sport', 'Teams'])\n",
      "Values view: dict_values(['Cricket', ['India', 'Australia', 'England', 'South Africa', 'Sri Lanka', 'New Zealand']])\n",
      "Items view: dict_items([('Sport', 'Cricket'), ('Teams', ['India', 'Australia', 'England', 'South Africa', 'Sri Lanka', 'New Zealand'])])\n"
     ]
    }
   ],
   "source": [
    "dict1 = {'Sport': 'Cricket', 'Teams': ['India', 'Australia', 'England', 'South Africa', 'Sri Lanka', 'New Zealand']}\n",
    "\n",
    "# Get the view objects\n",
    "keys_view = dict1.keys()\n",
    "values_view = dict1.values()\n",
    "items_view = dict1.items()\n",
    "\n",
    "# Display the view objects\n",
    "print(\"Keys view:\", keys_view)\n",
    "print(\"Values view:\", values_view)\n",
    "print(\"Items view:\", items_view)\n"
   ]
  },
  {
   "cell_type": "code",
   "execution_count": null,
   "id": "fd64c84a",
   "metadata": {},
   "outputs": [],
   "source": []
  }
 ],
 "metadata": {
  "kernelspec": {
   "display_name": "Python 3 (ipykernel)",
   "language": "python",
   "name": "python3"
  },
  "language_info": {
   "codemirror_mode": {
    "name": "ipython",
    "version": 3
   },
   "file_extension": ".py",
   "mimetype": "text/x-python",
   "name": "python",
   "nbconvert_exporter": "python",
   "pygments_lexer": "ipython3",
   "version": "3.9.13"
  }
 },
 "nbformat": 4,
 "nbformat_minor": 5
}
